{
 "cells": [
  {
   "cell_type": "code",
   "execution_count": 1,
   "id": "7910be54",
   "metadata": {},
   "outputs": [
    {
     "data": {
      "text/html": [
       "<div>\n",
       "<style scoped>\n",
       "    .dataframe tbody tr th:only-of-type {\n",
       "        vertical-align: middle;\n",
       "    }\n",
       "\n",
       "    .dataframe tbody tr th {\n",
       "        vertical-align: top;\n",
       "    }\n",
       "\n",
       "    .dataframe thead th {\n",
       "        text-align: right;\n",
       "    }\n",
       "</style>\n",
       "<table border=\"1\" class=\"dataframe\">\n",
       "  <thead>\n",
       "    <tr style=\"text-align: right;\">\n",
       "      <th></th>\n",
       "      <th>intent</th>\n",
       "      <th>utterance</th>\n",
       "    </tr>\n",
       "  </thead>\n",
       "  <tbody>\n",
       "    <tr>\n",
       "      <th>0</th>\n",
       "      <td>showGratitude</td>\n",
       "      <td>thanks so much</td>\n",
       "    </tr>\n",
       "    <tr>\n",
       "      <th>1</th>\n",
       "      <td>searchProperties</td>\n",
       "      <td>property in tokyo with wi-fi</td>\n",
       "    </tr>\n",
       "    <tr>\n",
       "      <th>2</th>\n",
       "      <td>searchProperties</td>\n",
       "      <td>any apartments available in munich from july 1...</td>\n",
       "    </tr>\n",
       "    <tr>\n",
       "      <th>3</th>\n",
       "      <td>searchProperties</td>\n",
       "      <td>in phoenix</td>\n",
       "    </tr>\n",
       "    <tr>\n",
       "      <th>4</th>\n",
       "      <td>getInformation</td>\n",
       "      <td>list all the locations</td>\n",
       "    </tr>\n",
       "  </tbody>\n",
       "</table>\n",
       "</div>"
      ],
      "text/plain": [
       "             intent                                          utterance\n",
       "0     showGratitude                                     thanks so much\n",
       "1  searchProperties                     property in tokyo with wi-fi  \n",
       "2  searchProperties  any apartments available in munich from july 1...\n",
       "3  searchProperties                                       in phoenix  \n",
       "4    getInformation                             list all the locations"
      ]
     },
     "execution_count": 1,
     "metadata": {},
     "output_type": "execute_result"
    }
   ],
   "source": [
    "import pandas as pd\n",
    "import numpy as np\n",
    "import string\n",
    "from sklearn.feature_extraction.text import TfidfVectorizer\n",
    "from sklearn.linear_model import LogisticRegression\n",
    "from sklearn.model_selection import train_test_split\n",
    "from sklearn.metrics import classification_report\n",
    "from sklearn.metrics import accuracy_score\n",
    "from sklearn import svm\n",
    "import joblib\n",
    "\n",
    "from sklearn.utils import shuffle\n",
    "df = pd.read_csv(\"PropertyDatasetCSV.csv\")\n",
    "df.columns = [\"intent\", \"utterance\"]\n",
    "df = shuffle(df, random_state=42).reset_index(drop=True)\n",
    "y = df['intent']\n",
    "X = df['utterance']\n",
    "df.head()"
   ]
  },
  {
   "cell_type": "markdown",
   "id": "321f0700",
   "metadata": {},
   "source": [
    "### Preprocess"
   ]
  },
  {
   "cell_type": "code",
   "execution_count": 2,
   "id": "14366896",
   "metadata": {},
   "outputs": [],
   "source": [
    "def preprocess(text):\n",
    "    text = text.lower()\n",
    "    translator = str.maketrans('', '', string.punctuation)\n",
    "    text = text.translate(translator)\n",
    "    return text\n",
    "    \n",
    "df['utterance'] = df['utterance'].apply(preprocess)"
   ]
  },
  {
   "cell_type": "markdown",
   "id": "9a29b497",
   "metadata": {},
   "source": [
    "### TF-IDF"
   ]
  },
  {
   "cell_type": "code",
   "execution_count": 3,
   "id": "d4de3291",
   "metadata": {},
   "outputs": [],
   "source": [
    "vectorizer = TfidfVectorizer(stop_words=None)\n",
    "X_tfidf = vectorizer.fit_transform(X)\n",
    "X_train, X_test, y_train, y_test = train_test_split(X_tfidf, y, test_size=0.2, random_state=42, stratify=y)"
   ]
  },
  {
   "cell_type": "markdown",
   "id": "ab10d9ca",
   "metadata": {},
   "source": [
    "### Logistic Regression"
   ]
  },
  {
   "cell_type": "code",
   "execution_count": 4,
   "id": "d344e979",
   "metadata": {},
   "outputs": [
    {
     "name": "stdout",
     "output_type": "stream",
     "text": [
      "Overall accuracy: 0.95\n",
      "Average Confidence: 0.92\n"
     ]
    }
   ],
   "source": [
    "lr_model = LogisticRegression(solver='lbfgs', max_iter=1000, random_state = 42, C=100)\n",
    "lr_model.fit(X_train, y_train)\n",
    "lr_y_pred = lr_model.predict(X_test)\n",
    "lr_y_prob = lr_model.predict_proba(X_test)\n",
    "\n",
    "lr_accuracy = accuracy_score(y_test, lr_y_pred)\n",
    "\n",
    "predicted_class_confidences = np.max(lr_y_prob, axis=1)\n",
    "average_confidence = np.mean(predicted_class_confidences)\n",
    "\n",
    "print(f\"Overall accuracy: {lr_accuracy:.2f}\")\n",
    "print(f\"Average Confidence: {average_confidence:.2f}\")"
   ]
  },
  {
   "cell_type": "code",
   "execution_count": 5,
   "id": "3186c356",
   "metadata": {},
   "outputs": [
    {
     "name": "stdout",
     "output_type": "stream",
     "text": [
      "Predicted intent: searchProperties\n",
      "Confidence: 0.99\n"
     ]
    }
   ],
   "source": [
    "test = [\"show me places in tokyo\"]\n",
    "test_idf = vectorizer.transform(test)\n",
    "probs = lr_model.predict_proba(test_idf)[0]\n",
    "predicted_intent = lr_model.classes_[probs.argmax()]\n",
    "predicted_confidence = probs.max()\n",
    "\n",
    "if predicted_confidence < 0.70:\n",
    "    print(\"IDK what you mean, sorry\")\n",
    "    print(f\"Confidence: {predicted_confidence:.2f}\")\n",
    "else:\n",
    "    print(f\"Predicted intent: {predicted_intent}\")\n",
    "    print(f\"Confidence: {predicted_confidence:.2f}\")"
   ]
  },
  {
   "cell_type": "code",
   "execution_count": 6,
   "id": "d7edeb01",
   "metadata": {},
   "outputs": [
    {
     "data": {
      "text/plain": [
       "['vectorizer.pkl']"
      ]
     },
     "execution_count": 6,
     "metadata": {},
     "output_type": "execute_result"
    }
   ],
   "source": [
    "joblib.dump(lr_model, 'model.pkl')\n",
    "joblib.dump(vectorizer, 'vectorizer.pkl')"
   ]
  },
  {
   "cell_type": "code",
   "execution_count": null,
   "id": "7bf3294a",
   "metadata": {},
   "outputs": [],
   "source": []
  }
 ],
 "metadata": {
  "kernelspec": {
   "display_name": "Python 3 (ipykernel)",
   "language": "python",
   "name": "python3"
  },
  "language_info": {
   "codemirror_mode": {
    "name": "ipython",
    "version": 3
   },
   "file_extension": ".py",
   "mimetype": "text/x-python",
   "name": "python",
   "nbconvert_exporter": "python",
   "pygments_lexer": "ipython3",
   "version": "3.13.5"
  }
 },
 "nbformat": 4,
 "nbformat_minor": 5
}
